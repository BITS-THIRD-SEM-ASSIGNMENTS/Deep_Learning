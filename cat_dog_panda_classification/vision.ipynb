{
 "cells": [
  {
   "cell_type": "markdown",
   "metadata": {},
   "source": [
    "# Importing Libraries"
   ]
  },
  {
   "cell_type": "code",
   "execution_count": 15,
   "metadata": {},
   "outputs": [],
   "source": [
    "import os\n",
    "import pandas as pd\n",
    "import matplotlib.pyplot as plt\n",
    "import tensorflow as tf\n",
    "import cv2\n",
    "import numpy as np"
   ]
  },
  {
   "cell_type": "code",
   "execution_count": null,
   "metadata": {},
   "outputs": [],
   "source": [
    "path_to_dataset = os.path.join(os.getcwd(), \"dataset\", \"animals\")\n",
    "for dirname, _, filenames in os.walk(path_to_dataset):\n",
    "    print(dirname)"
   ]
  },
  {
   "cell_type": "code",
   "execution_count": 22,
   "metadata": {},
   "outputs": [],
   "source": [
    "folder_path = os.path.join(os.getcwd(), \"dataset\", \"animals\")\n",
    "df = pd.DataFrame(columns=[\"path\",\"label\"])\n",
    "x, y = [], []\n",
    "target_size = (108, 108, 3)\n",
    "for subfolder in os.listdir(folder_path):\n",
    "    for file_name in os.listdir(os.path.join(folder_path, subfolder)):\n",
    "        file_path = f'{folder_path}/{subfolder}/{file_name}'\n",
    "        image = load_img(file_path, target_size=target_size)\n",
    "        img_arr = img_to_array(image)\n",
    "        df = df.append({\"path\":img_arr,\"label\":subfolder},ignore_index=True)\n",
    "\n"
   ]
  },
  {
   "cell_type": "code",
   "execution_count": 23,
   "metadata": {},
   "outputs": [
    {
     "data": {
      "text/html": [
       "<div>\n",
       "<style scoped>\n",
       "    .dataframe tbody tr th:only-of-type {\n",
       "        vertical-align: middle;\n",
       "    }\n",
       "\n",
       "    .dataframe tbody tr th {\n",
       "        vertical-align: top;\n",
       "    }\n",
       "\n",
       "    .dataframe thead th {\n",
       "        text-align: right;\n",
       "    }\n",
       "</style>\n",
       "<table border=\"1\" class=\"dataframe\">\n",
       "  <thead>\n",
       "    <tr style=\"text-align: right;\">\n",
       "      <th></th>\n",
       "      <th>path</th>\n",
       "      <th>label</th>\n",
       "    </tr>\n",
       "  </thead>\n",
       "  <tbody>\n",
       "    <tr>\n",
       "      <th>0</th>\n",
       "      <td>[[[82.0, 133.0, 164.0], [81.0, 134.0, 165.0], ...</td>\n",
       "      <td>cats</td>\n",
       "    </tr>\n",
       "    <tr>\n",
       "      <th>1</th>\n",
       "      <td>[[[128.0, 127.0, 132.0], [59.0, 77.0, 113.0], ...</td>\n",
       "      <td>cats</td>\n",
       "    </tr>\n",
       "    <tr>\n",
       "      <th>2</th>\n",
       "      <td>[[[178.0, 176.0, 177.0], [148.0, 146.0, 147.0]...</td>\n",
       "      <td>cats</td>\n",
       "    </tr>\n",
       "    <tr>\n",
       "      <th>3</th>\n",
       "      <td>[[[48.0, 38.0, 37.0], [50.0, 42.0, 40.0], [46....</td>\n",
       "      <td>cats</td>\n",
       "    </tr>\n",
       "    <tr>\n",
       "      <th>4</th>\n",
       "      <td>[[[59.0, 74.0, 45.0], [47.0, 62.0, 33.0], [44....</td>\n",
       "      <td>cats</td>\n",
       "    </tr>\n",
       "    <tr>\n",
       "      <th>...</th>\n",
       "      <td>...</td>\n",
       "      <td>...</td>\n",
       "    </tr>\n",
       "    <tr>\n",
       "      <th>2995</th>\n",
       "      <td>[[[135.0, 139.0, 102.0], [75.0, 83.0, 32.0], [...</td>\n",
       "      <td>panda</td>\n",
       "    </tr>\n",
       "    <tr>\n",
       "      <th>2996</th>\n",
       "      <td>[[[44.0, 76.0, 9.0], [41.0, 54.0, 26.0], [31.0...</td>\n",
       "      <td>panda</td>\n",
       "    </tr>\n",
       "    <tr>\n",
       "      <th>2997</th>\n",
       "      <td>[[[69.0, 100.0, 92.0], [74.0, 113.0, 130.0], [...</td>\n",
       "      <td>panda</td>\n",
       "    </tr>\n",
       "    <tr>\n",
       "      <th>2998</th>\n",
       "      <td>[[[23.0, 17.0, 19.0], [159.0, 130.0, 114.0], [...</td>\n",
       "      <td>panda</td>\n",
       "    </tr>\n",
       "    <tr>\n",
       "      <th>2999</th>\n",
       "      <td>[[[158.0, 151.0, 145.0], [207.0, 194.0, 188.0]...</td>\n",
       "      <td>panda</td>\n",
       "    </tr>\n",
       "  </tbody>\n",
       "</table>\n",
       "<p>3000 rows × 2 columns</p>\n",
       "</div>"
      ],
      "text/plain": [
       "                                                   path  label\n",
       "0     [[[82.0, 133.0, 164.0], [81.0, 134.0, 165.0], ...   cats\n",
       "1     [[[128.0, 127.0, 132.0], [59.0, 77.0, 113.0], ...   cats\n",
       "2     [[[178.0, 176.0, 177.0], [148.0, 146.0, 147.0]...   cats\n",
       "3     [[[48.0, 38.0, 37.0], [50.0, 42.0, 40.0], [46....   cats\n",
       "4     [[[59.0, 74.0, 45.0], [47.0, 62.0, 33.0], [44....   cats\n",
       "...                                                 ...    ...\n",
       "2995  [[[135.0, 139.0, 102.0], [75.0, 83.0, 32.0], [...  panda\n",
       "2996  [[[44.0, 76.0, 9.0], [41.0, 54.0, 26.0], [31.0...  panda\n",
       "2997  [[[69.0, 100.0, 92.0], [74.0, 113.0, 130.0], [...  panda\n",
       "2998  [[[23.0, 17.0, 19.0], [159.0, 130.0, 114.0], [...  panda\n",
       "2999  [[[158.0, 151.0, 145.0], [207.0, 194.0, 188.0]...  panda\n",
       "\n",
       "[3000 rows x 2 columns]"
      ]
     },
     "execution_count": 23,
     "metadata": {},
     "output_type": "execute_result"
    }
   ],
   "source": [
    "df"
   ]
  },
  {
   "cell_type": "code",
   "execution_count": null,
   "metadata": {},
   "outputs": [],
   "source": []
  }
 ],
 "metadata": {
  "colab": {
   "collapsed_sections": [],
   "include_colab_link": true,
   "name": "Welcome To Colaboratory",
   "provenance": [],
   "toc_visible": true
  },
  "kernelspec": {
   "display_name": "Python 3",
   "language": "python",
   "name": "python3"
  },
  "language_info": {
   "codemirror_mode": {
    "name": "ipython",
    "version": 3
   },
   "file_extension": ".py",
   "mimetype": "text/x-python",
   "name": "python",
   "nbconvert_exporter": "python",
   "pygments_lexer": "ipython3",
   "version": "3.8.8"
  }
 },
 "nbformat": 4,
 "nbformat_minor": 1
}
